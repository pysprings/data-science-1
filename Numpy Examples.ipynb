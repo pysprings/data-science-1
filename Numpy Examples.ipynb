{
 "cells": [
  {
   "cell_type": "code",
   "execution_count": 1,
   "metadata": {
    "collapsed": true
   },
   "outputs": [],
   "source": [
    "import numpy as np"
   ]
  },
  {
   "cell_type": "code",
   "execution_count": 2,
   "metadata": {},
   "outputs": [
    {
     "data": {
      "text/plain": [
       "array([0, 1, 2, 3, 4])"
      ]
     },
     "execution_count": 2,
     "metadata": {},
     "output_type": "execute_result"
    }
   ],
   "source": [
    "np.arange(5)"
   ]
  },
  {
   "cell_type": "code",
   "execution_count": 4,
   "metadata": {},
   "outputs": [],
   "source": [
    "a = np.linspace(0, 10, 100)"
   ]
  },
  {
   "cell_type": "code",
   "execution_count": 7,
   "metadata": {},
   "outputs": [],
   "source": [
    "b = a.reshape(10, 10)"
   ]
  },
  {
   "cell_type": "code",
   "execution_count": 8,
   "metadata": {},
   "outputs": [
    {
     "data": {
      "text/plain": [
       "array([ 0.50505051,  0.60606061,  0.70707071,  0.80808081,  0.90909091])"
      ]
     },
     "execution_count": 8,
     "metadata": {},
     "output_type": "execute_result"
    }
   ],
   "source": [
    "a[5:10]"
   ]
  },
  {
   "cell_type": "code",
   "execution_count": 10,
   "metadata": {},
   "outputs": [
    {
     "data": {
      "text/plain": [
       "array([ 4.04040404,  4.14141414,  4.24242424,  4.34343434,  4.44444444,\n",
       "        4.54545455,  4.64646465,  4.74747475,  4.84848485,  4.94949495])"
      ]
     },
     "execution_count": 10,
     "metadata": {},
     "output_type": "execute_result"
    }
   ],
   "source": [
    "b[4]"
   ]
  },
  {
   "cell_type": "code",
   "execution_count": 11,
   "metadata": {},
   "outputs": [
    {
     "data": {
      "text/plain": [
       "array([ 0.4040404 ,  1.41414141,  2.42424242,  3.43434343,  4.44444444,\n",
       "        5.45454545,  6.46464646,  7.47474747,  8.48484848,  9.49494949])"
      ]
     },
     "execution_count": 11,
     "metadata": {},
     "output_type": "execute_result"
    }
   ],
   "source": [
    "b[:,4]"
   ]
  },
  {
   "cell_type": "code",
   "execution_count": 12,
   "metadata": {},
   "outputs": [
    {
     "data": {
      "text/plain": [
       "5.8585858585858581"
      ]
     },
     "execution_count": 12,
     "metadata": {},
     "output_type": "execute_result"
    }
   ],
   "source": [
    "b[5, 8]"
   ]
  },
  {
   "cell_type": "code",
   "execution_count": 13,
   "metadata": {},
   "outputs": [
    {
     "data": {
      "text/plain": [
       "2"
      ]
     },
     "execution_count": 13,
     "metadata": {},
     "output_type": "execute_result"
    }
   ],
   "source": [
    "b.ndim"
   ]
  },
  {
   "cell_type": "code",
   "execution_count": 14,
   "metadata": {},
   "outputs": [
    {
     "data": {
      "text/plain": [
       "(10, 10)"
      ]
     },
     "execution_count": 14,
     "metadata": {},
     "output_type": "execute_result"
    }
   ],
   "source": [
    "b.shape"
   ]
  },
  {
   "cell_type": "code",
   "execution_count": 15,
   "metadata": {},
   "outputs": [
    {
     "data": {
      "text/plain": [
       "array([[  0.00000000e+00,   1.02030405e-02,   4.08121620e-02,\n",
       "          9.18273646e-02,   1.63248648e-01,   2.55076013e-01,\n",
       "          3.67309458e-01,   4.99948985e-01,   6.52994592e-01,\n",
       "          8.26446281e-01],\n",
       "       [  1.02030405e+00,   1.23456790e+00,   1.46923783e+00,\n",
       "          1.72431385e+00,   1.99979594e+00,   2.29568411e+00,\n",
       "          2.61197837e+00,   2.94867871e+00,   3.30578512e+00,\n",
       "          3.68329762e+00],\n",
       "       [  4.08121620e+00,   4.49954086e+00,   4.93827160e+00,\n",
       "          5.39740843e+00,   5.87695133e+00,   6.37690032e+00,\n",
       "          6.89725538e+00,   7.43801653e+00,   7.99918376e+00,\n",
       "          8.58075707e+00],\n",
       "       [  9.18273646e+00,   9.80512193e+00,   1.04479135e+01,\n",
       "          1.11111111e+01,   1.17947148e+01,   1.24987246e+01,\n",
       "          1.32231405e+01,   1.39679625e+01,   1.47331905e+01,\n",
       "          1.55188246e+01],\n",
       "       [  1.63248648e+01,   1.71513111e+01,   1.79981635e+01,\n",
       "          1.88654219e+01,   1.97530864e+01,   2.06611570e+01,\n",
       "          2.15896337e+01,   2.25385165e+01,   2.35078053e+01,\n",
       "          2.44975003e+01],\n",
       "       [  2.55076013e+01,   2.65381084e+01,   2.75890215e+01,\n",
       "          2.86603408e+01,   2.97520661e+01,   3.08641975e+01,\n",
       "          3.19967350e+01,   3.31496786e+01,   3.43230283e+01,\n",
       "          3.55167840e+01],\n",
       "       [  3.67309458e+01,   3.79655137e+01,   3.92204877e+01,\n",
       "          4.04958678e+01,   4.17916539e+01,   4.31078461e+01,\n",
       "          4.44444444e+01,   4.58014488e+01,   4.71788593e+01,\n",
       "          4.85766758e+01],\n",
       "       [  4.99948985e+01,   5.14335272e+01,   5.28925620e+01,\n",
       "          5.43720029e+01,   5.58718498e+01,   5.73921028e+01,\n",
       "          5.89327620e+01,   6.04938272e+01,   6.20752984e+01,\n",
       "          6.36771758e+01],\n",
       "       [  6.52994592e+01,   6.69421488e+01,   6.86052444e+01,\n",
       "          7.02887460e+01,   7.19926538e+01,   7.37169677e+01,\n",
       "          7.54616876e+01,   7.72268136e+01,   7.90123457e+01,\n",
       "          8.08182838e+01],\n",
       "       [  8.26446281e+01,   8.44913784e+01,   8.63585348e+01,\n",
       "          8.82460973e+01,   9.01540659e+01,   9.20824406e+01,\n",
       "          9.40312213e+01,   9.60004081e+01,   9.79900010e+01,\n",
       "          1.00000000e+02]])"
      ]
     },
     "execution_count": 15,
     "metadata": {},
     "output_type": "execute_result"
    }
   ],
   "source": [
    "b**2"
   ]
  },
  {
   "cell_type": "code",
   "execution_count": 23,
   "metadata": {},
   "outputs": [],
   "source": [
    "I = np.matrix(np.identity(2))"
   ]
  },
  {
   "cell_type": "code",
   "execution_count": 24,
   "metadata": {},
   "outputs": [
    {
     "data": {
      "text/plain": [
       "matrix([[ 1.,  0.],\n",
       "        [ 0.,  1.]])"
      ]
     },
     "execution_count": 24,
     "metadata": {},
     "output_type": "execute_result"
    }
   ],
   "source": [
    "I*I"
   ]
  },
  {
   "cell_type": "code",
   "execution_count": 25,
   "metadata": {
    "collapsed": true
   },
   "outputs": [],
   "source": [
    "R = np.matrix([[1,2],[3,4]])"
   ]
  },
  {
   "cell_type": "code",
   "execution_count": 26,
   "metadata": {},
   "outputs": [
    {
     "data": {
      "text/plain": [
       "matrix([[1, 2],\n",
       "        [3, 4]])"
      ]
     },
     "execution_count": 26,
     "metadata": {},
     "output_type": "execute_result"
    }
   ],
   "source": [
    "R"
   ]
  },
  {
   "cell_type": "code",
   "execution_count": 27,
   "metadata": {},
   "outputs": [
    {
     "data": {
      "text/plain": [
       "matrix([[ 1.,  2.],\n",
       "        [ 3.,  4.]])"
      ]
     },
     "execution_count": 27,
     "metadata": {},
     "output_type": "execute_result"
    }
   ],
   "source": [
    "R * I"
   ]
  },
  {
   "cell_type": "code",
   "execution_count": 28,
   "metadata": {},
   "outputs": [
    {
     "data": {
      "text/plain": [
       "matrix([[ 7, 10],\n",
       "        [15, 22]])"
      ]
     },
     "execution_count": 28,
     "metadata": {},
     "output_type": "execute_result"
    }
   ],
   "source": [
    "R**2"
   ]
  },
  {
   "cell_type": "code",
   "execution_count": 29,
   "metadata": {
    "collapsed": true
   },
   "outputs": [],
   "source": [
    "A = np.array(R)"
   ]
  },
  {
   "cell_type": "code",
   "execution_count": 30,
   "metadata": {},
   "outputs": [
    {
     "data": {
      "text/plain": [
       "array([[ 1,  4],\n",
       "       [ 9, 16]])"
      ]
     },
     "execution_count": 30,
     "metadata": {},
     "output_type": "execute_result"
    }
   ],
   "source": [
    "A**2"
   ]
  },
  {
   "cell_type": "code",
   "execution_count": 31,
   "metadata": {},
   "outputs": [
    {
     "data": {
      "text/plain": [
       "array([[ 1.        ,  1.41421356],\n",
       "       [ 1.73205081,  2.        ]])"
      ]
     },
     "execution_count": 31,
     "metadata": {},
     "output_type": "execute_result"
    }
   ],
   "source": [
    "np.sqrt(A)"
   ]
  },
  {
   "cell_type": "code",
   "execution_count": 33,
   "metadata": {},
   "outputs": [
    {
     "data": {
      "text/plain": [
       "99"
      ]
     },
     "execution_count": 33,
     "metadata": {},
     "output_type": "execute_result"
    }
   ],
   "source": [
    "np.argmax(a)"
   ]
  },
  {
   "cell_type": "code",
   "execution_count": 34,
   "metadata": {},
   "outputs": [
    {
     "data": {
      "text/plain": [
       "2.5"
      ]
     },
     "execution_count": 34,
     "metadata": {},
     "output_type": "execute_result"
    }
   ],
   "source": [
    "np.average(A)"
   ]
  },
  {
   "cell_type": "code",
   "execution_count": 37,
   "metadata": {},
   "outputs": [
    {
     "data": {
      "text/plain": [
       "array([0, 1, 1, 1, 1])"
      ]
     },
     "execution_count": 37,
     "metadata": {},
     "output_type": "execute_result"
    }
   ],
   "source": [
    "np.bincount(A.flatten())"
   ]
  },
  {
   "cell_type": "code",
   "execution_count": 38,
   "metadata": {},
   "outputs": [
    {
     "data": {
      "text/plain": [
       "matrix([[1, 2],\n",
       "        [3, 4]])"
      ]
     },
     "execution_count": 38,
     "metadata": {},
     "output_type": "execute_result"
    }
   ],
   "source": [
    "R"
   ]
  },
  {
   "cell_type": "code",
   "execution_count": 39,
   "metadata": {},
   "outputs": [
    {
     "data": {
      "text/plain": [
       "matrix([[1, 3],\n",
       "        [2, 4]])"
      ]
     },
     "execution_count": 39,
     "metadata": {},
     "output_type": "execute_result"
    }
   ],
   "source": [
    "R.T"
   ]
  },
  {
   "cell_type": "code",
   "execution_count": 40,
   "metadata": {},
   "outputs": [
    {
     "data": {
      "text/plain": [
       "matrix([[ 5, 11],\n",
       "        [11, 25]])"
      ]
     },
     "execution_count": 40,
     "metadata": {},
     "output_type": "execute_result"
    }
   ],
   "source": [
    "np.dot(R, R.T)"
   ]
  },
  {
   "cell_type": "code",
   "execution_count": 41,
   "metadata": {
    "collapsed": true
   },
   "outputs": [],
   "source": [
    "np.dot?"
   ]
  },
  {
   "cell_type": "code",
   "execution_count": 42,
   "metadata": {},
   "outputs": [
    {
     "data": {
      "text/plain": [
       "array([1, 4])"
      ]
     },
     "execution_count": 42,
     "metadata": {},
     "output_type": "execute_result"
    }
   ],
   "source": [
    "np.cross(R, R.T)"
   ]
  },
  {
   "cell_type": "code",
   "execution_count": 47,
   "metadata": {},
   "outputs": [
    {
     "data": {
      "text/plain": [
       "matrix([[  1.00000000e+00,   4.44089210e-16],\n",
       "        [  0.00000000e+00,   1.00000000e+00]])"
      ]
     },
     "execution_count": 47,
     "metadata": {},
     "output_type": "execute_result"
    }
   ],
   "source": [
    "np.linalg.inv(R) * R"
   ]
  },
  {
   "cell_type": "code",
   "execution_count": 45,
   "metadata": {},
   "outputs": [
    {
     "data": {
      "text/plain": [
       "array([-1.52265059,  0.82034332, -0.61545142,  0.90411773, -0.93056518,\n",
       "       -0.51491029, -1.76282503,  2.64138306, -1.5039348 , -0.67218617,\n",
       "       -1.29988641,  0.71008401, -1.28219558,  0.66610427, -0.51449387,\n",
       "       -0.91826202,  0.06045518, -0.25604012, -1.27043822,  0.56663678,\n",
       "       -2.39107164, -0.20265363,  0.31534983, -0.46123283,  0.41951001,\n",
       "       -0.74828128,  1.17025   ,  0.74925629,  0.5216537 , -0.06307007,\n",
       "       -0.35136673,  0.3627982 ,  0.27662233, -0.19542072, -0.8180271 ,\n",
       "        0.35951366,  0.19904169, -0.06732768,  0.35776353,  1.78508892,\n",
       "        0.36348765, -0.12458157, -1.99246267,  1.31064051,  0.08535573,\n",
       "        0.78297651,  1.06316859, -0.56666261,  0.60382079, -0.05283306,\n",
       "        0.52656705,  2.30149517,  0.09603484,  0.48052431,  1.50465938,\n",
       "       -1.07054533, -0.92822205,  0.50244665,  1.34857681,  1.08351917,\n",
       "       -1.00059246, -2.05867801,  0.4874101 , -1.33671676, -0.13481961,\n",
       "        0.96561338,  2.25161194, -0.39934344,  0.96159937, -0.6989305 ,\n",
       "        1.45177246, -0.71465894,  0.75386807,  0.56780848, -0.78165604,\n",
       "       -0.91846603,  0.2239936 , -0.9044259 ,  0.18875019, -0.23217045,\n",
       "        2.22003194,  1.03198531, -0.46562627,  0.55589895,  0.12847393,\n",
       "        0.07869466,  0.26071978, -1.81579117, -1.00950326,  0.16209425,\n",
       "        0.92765917,  0.78737773, -0.36763096, -0.50762756,  1.01636795,\n",
       "       -0.98766362,  0.48726171,  0.29726921,  0.116119  , -0.53455484])"
      ]
     },
     "execution_count": 45,
     "metadata": {},
     "output_type": "execute_result"
    }
   ],
   "source": [
    "np.random.normal(size=100)"
   ]
  },
  {
   "cell_type": "code",
   "execution_count": 52,
   "metadata": {},
   "outputs": [
    {
     "data": {
      "text/plain": [
       "array([ 1.01010101+0.j        , -0.25252525+0.34757119j,\n",
       "       -0.25252525+0.08205043j, -0.25252525-0.08205043j,\n",
       "       -0.25252525-0.34757119j])"
      ]
     },
     "execution_count": 52,
     "metadata": {},
     "output_type": "execute_result"
    }
   ],
   "source": [
    "np.fft.fft(a, n=5)"
   ]
  },
  {
   "cell_type": "code",
   "execution_count": 55,
   "metadata": {},
   "outputs": [
    {
     "data": {
      "text/plain": [
       "array([[  5.00000000e+02 +0.00000000e+00j,\n",
       "         -5.05050505e+00 +1.55438562e+01j,\n",
       "         -5.05050505e+00 +6.95142384e+00j,\n",
       "         -5.05050505e+00 +3.66940671e+00j,\n",
       "         -5.05050505e+00 +1.64100857e+00j,\n",
       "         -5.05050505e+00 +5.55111512e-17j,\n",
       "         -5.05050505e+00 -1.64100857e+00j,\n",
       "         -5.05050505e+00 -3.66940671e+00j,\n",
       "         -5.05050505e+00 -6.95142384e+00j,\n",
       "         -5.05050505e+00 -1.55438562e+01j],\n",
       "       [ -5.05050505e+01 +1.55438562e+02j,\n",
       "         -1.13076654e-15 -6.21033611e-16j,\n",
       "          2.09190193e-15 +1.21892708e-15j,\n",
       "         -6.54987120e-16 -7.09044153e-16j,\n",
       "          4.98791864e-15 +3.71484344e-16j,\n",
       "          6.00183408e-16 +1.76365598e-16j,\n",
       "         -5.70647007e-15 +8.19883561e-15j,\n",
       "         -2.46203822e-15 +7.60779451e-16j,\n",
       "          3.63176131e-15 -5.73627690e-16j,\n",
       "          8.41488779e-16 -1.87708519e-16j],\n",
       "       [ -5.05050505e+01 +6.95142384e+01j,\n",
       "         -1.16645672e-15 -5.15676603e-16j,\n",
       "         -2.45714931e-15 +2.96563730e-15j,\n",
       "         -1.04546308e-15 +1.22169575e-15j,\n",
       "         -2.76349350e-15 +4.28694348e-15j,\n",
       "         -2.88657986e-15 -1.39919065e-15j,\n",
       "         -5.23011227e-15 +7.34229803e-16j,\n",
       "          7.31888416e-16 -1.12926484e-15j,\n",
       "          5.12168457e-15 +4.74199413e-15j,\n",
       "          1.40575053e-15 +1.13016569e-15j],\n",
       "       [ -5.05050505e+01 +3.66940671e+01j,\n",
       "          5.53894572e-17 -1.11778383e-15j,\n",
       "         -3.73091677e-15 -9.81085397e-17j,\n",
       "          1.25477307e-16 -2.46309189e-15j,\n",
       "          4.07515818e-16 -2.78944801e-15j,\n",
       "          1.04997119e-15 -1.54699352e-15j,\n",
       "         -1.33053592e-16 -6.00937373e-15j,\n",
       "          1.39690459e-15 -4.66072841e-16j,\n",
       "         -6.43363857e-15 -2.63542356e-15j,\n",
       "          8.53135574e-16 -1.25837323e-15j],\n",
       "       [ -5.05050505e+01 +1.64100857e+01j,\n",
       "         -3.04499634e-16 -7.42808505e-17j,\n",
       "         -6.73407141e-16 -1.07889643e-14j,\n",
       "          1.76234987e-15 +1.40278496e-15j,\n",
       "         -1.41858333e-16 -9.24446644e-17j,\n",
       "         -6.66133815e-16 +3.82588628e-15j,\n",
       "          1.25208136e-15 -6.14316015e-15j,\n",
       "         -5.30236905e-16 +1.28089502e-15j,\n",
       "         -6.58860489e-16 -5.45989378e-15j,\n",
       "         -1.85522666e-15 +2.35734217e-15j],\n",
       "       [ -5.05050505e+01 -7.10542736e-15j,\n",
       "          8.88178420e-16 +1.33226763e-15j,\n",
       "          5.55111512e-15 +2.33146835e-15j,\n",
       "         -1.33226763e-15 -4.68386162e-31j,\n",
       "          4.44089210e-16 -5.27355937e-16j,\n",
       "          1.77635684e-15 +1.66533454e-16j,\n",
       "          4.44089210e-16 +5.27355937e-16j,\n",
       "         -1.11022302e-15 +1.66533454e-16j,\n",
       "          5.55111512e-15 -2.33146835e-15j,\n",
       "          1.33226763e-15 -1.55431223e-15j],\n",
       "       [ -5.05050505e+01 -1.64100857e+01j,\n",
       "         -1.47185721e-15 -1.70207599e-15j,\n",
       "         -6.58860489e-16 +5.45989378e-15j,\n",
       "         -4.30082239e-16 -1.06971805e-15j,\n",
       "          1.25208136e-15 +6.14316015e-15j,\n",
       "         -6.66133815e-16 -3.71486398e-15j,\n",
       "         -1.41858333e-16 +9.24446644e-17j,\n",
       "          2.08454914e-15 -1.61396193e-15j,\n",
       "         -6.73407141e-16 +1.07889643e-14j,\n",
       "         -3.65219391e-16 +3.07193092e-16j],\n",
       "       [ -5.05050505e+01 -3.66940671e+01j,\n",
       "          8.00393091e-16 +1.25501494e-15j,\n",
       "         -6.43363857e-15 +2.63542356e-15j,\n",
       "          1.51128517e-15 +3.01250519e-16j,\n",
       "         -1.33053592e-16 +6.00937373e-15j,\n",
       "          1.18048573e-15 +1.47837797e-15j,\n",
       "          4.07515818e-16 +2.78944801e-15j,\n",
       "         -1.19417824e-16 +2.55929865e-15j,\n",
       "         -3.73091677e-15 +9.81085397e-17j,\n",
       "         -3.14221997e-16 +9.83911001e-16j],\n",
       "       [ -5.05050505e+01 -6.95142384e+01j,\n",
       "          7.22367508e-16 -1.26068024e-15j,\n",
       "          5.12168457e-15 -4.74199413e-15j,\n",
       "          6.01373872e-16 +9.98750296e-16j,\n",
       "         -5.23011227e-15 -7.34229803e-16j,\n",
       "         -2.88657986e-15 +1.51021295e-15j,\n",
       "         -2.76349350e-15 -4.28694348e-15j,\n",
       "         -1.17597763e-15 -1.09118121e-15j,\n",
       "         -2.45714931e-15 -2.96563730e-15j,\n",
       "         -1.84983974e-15 +6.46191147e-16j],\n",
       "       [ -5.05050505e+01 -1.55438562e+02j,\n",
       "          4.97028597e-16 +2.61757893e-16j,\n",
       "          3.63176131e-15 +5.73627690e-16j,\n",
       "         -2.42506529e-15 -4.59783554e-16j,\n",
       "         -5.70647007e-15 -8.19883561e-15j,\n",
       "          3.89006439e-16 +3.27226060e-18j,\n",
       "          4.98791864e-15 -3.71484344e-16j,\n",
       "         -4.80783079e-16 +5.87686114e-16j,\n",
       "          2.09190193e-15 -1.21892708e-15j,\n",
       "         -1.04733545e-15 +9.06259954e-16j]])"
      ]
     },
     "execution_count": 55,
     "metadata": {},
     "output_type": "execute_result"
    }
   ],
   "source": [
    "np.fft.fft2(b)"
   ]
  },
  {
   "cell_type": "code",
   "execution_count": null,
   "metadata": {
    "collapsed": true
   },
   "outputs": [],
   "source": []
  }
 ],
 "metadata": {
  "kernelspec": {
   "display_name": "Python 2",
   "language": "python",
   "name": "python2"
  },
  "language_info": {
   "codemirror_mode": {
    "name": "ipython",
    "version": 2
   },
   "file_extension": ".py",
   "mimetype": "text/x-python",
   "name": "python",
   "nbconvert_exporter": "python",
   "pygments_lexer": "ipython2",
   "version": "2.7.13"
  }
 },
 "nbformat": 4,
 "nbformat_minor": 2
}
